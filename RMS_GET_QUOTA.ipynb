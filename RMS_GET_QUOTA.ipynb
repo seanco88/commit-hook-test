{
 "cells": [
  {
   "cell_type": "code",
   "execution_count": null,
   "id": "7aa6946b-7514-4a75-8bf6-bc9f4373262c",
   "metadata": {
    "tags": []
   },
   "outputs": [],
   "source": [
    "from google.oauth2 import id_token\n",
    "from google.auth.transport.requests import Request\n",
    "import requests\n",
    "\n",
    "get_quota_url = \"https://resource-manager-dot-bdp-odaa-dev.du.r.appspot.com/quotas\"\n",
    "data = {\"user\": \"juseong.kim\"}\n",
    "\n",
    "rms_client_id = \"13685931603-4t2hko7l63nahgc0gopuljnm4pa3sbaq.apps.googleusercontent.com\"\n",
    "open_id_connect_token = id_token.fetch_id_token(Request(), rms_client_id)\n",
    "res = requests.get(get_quota_url, headers={'Authorization': f\"Bearer {open_id_connect_token}\"}, params=data)\n",
    "res.__dict__"
   ]
  },
  {
   "cell_type": "code",
   "execution_count": null,
   "id": "e4353662-03bb-4163-bf9e-6b53ebf7577d",
   "metadata": {
    "tags": []
   },
   "outputs": [],
   "source": [
    "res.__dict__"
   ]
  },
  {
   "cell_type": "code",
   "execution_count": null,
   "id": "2bbb9e1a-dd98-4f81-a3e3-04f410127856",
   "metadata": {},
   "outputs": [],
   "source": [
    "{'_content': b'[{\"id\": \"juseong.kim\", \"display_name\": \"default\", \"type\": \"user\", \"property\": {\"limit\": {\"cpu\": 4, \"memory\": 32, \"slot\": 0}, \"usage\": {\"cpu\": 3, \"memory\": 6, \"slot\": 0}, \"bigquery_endpoint\": \"sec-bdp-user-dev\"}, \"requests\": [{\"request_id\": \"0016f18d-8bc2-48a5-9459-2854cb715432\", \"resource\": {\"cpu\": 1, \"memory\": 2, \"slot\": 0}}, {\"request_id\": \"0f26f304-fa67-448e-838e-3cf5b2c6f067\", \"resource\": {\"cpu\": 1, \"memory\": 2, \"slot\": 0}}, {\"request_id\": \"6658dc05-35d0-419b-918c-f30b6f00f607\", \"resource\": {\"cpu\": 1, \"memory\": 2, \"slot\": 0}}]}, {\"id\": \"bigdata-gr-data-intelligence\", \"display_name\": \"BDC - Data Intelligence Group\", \"type\": \"group\", \"property\": {\"limit\": {\"cpu\": 640, \"memory\": 2560, \"slot\": 0}, \"usage\": {\"cpu\": 2, \"memory\": 8, \"slot\": 0}, \"bigquery_endpoint\": \"sec-bdp-user-dev\"}, \"requests\": [{\"request_id\": \"e1f6a53b-1b35-455f-9472-08ccfaa64be4\", \"resource\": {\"cpu\": 2, \"memory\": 8, \"slot\": 0}}]}, {\"id\": \"bigdata-gr-rms-odaa\", \"display_name\": \"bigdata-gr-rms-odaa\", \"type\": \"group\", \"property\": {\"limit\": {\"cpu\": 100, \"memory\": 128, \"slot\": 100}, \"usage\": {\"cpu\": 0, \"memory\": 0, \"slot\": 100}, \"bigquery_endpoint\": \"bdp-odaa-rm-pool-03-dev\"}, \"requests\": [{\"request_id\": \"4d7d6d06-7f09-47a4-b1db-6582a20ce3ce\", \"resource\": {\"cpu\": 0, \"memory\": 0, \"slot\": 100}}]}]',\n",
    " '_content_consumed': True,\n",
    " '_next': None,\n",
    " 'status_code': 200,\n",
    " 'headers': {'Date': 'Fri, 26 Nov 2021 01:34:19 GMT', 'Content-Type': 'application/json', 'Vary': 'Accept-Encoding', 'Server': 'gunicorn', 'Content-Encoding': 'gzip', 'Via': '1.1 google', 'Transfer-Encoding': 'chunked'},\n",
    " 'raw': <urllib3.response.HTTPResponse at 0x7f477eb71cd0>,\n",
    " 'url': 'https://resource-manager-dot-bdp-odaa-dev.du.r.appspot.com/quotas?user=juseong.kim',\n",
    " 'encoding': 'utf-8',\n",
    " 'history': [],\n",
    " 'reason': 'OK',\n",
    " 'cookies': <RequestsCookieJar[]>,\n",
    " 'elapsed': datetime.timedelta(microseconds=169333),\n",
    " 'request': <PreparedRequest [GET]>,\n",
    " 'connection': <requests.adapters.HTTPAdapter at 0x7f4794235a30>}"
   ]
  },
  {
   "cell_type": "code",
   "execution_count": null,
   "id": "7e207b74-93ae-4c0b-afc5-cecf292ad1f4",
   "metadata": {
    "tags": []
   },
   "outputs": [],
   "source": [
    "quota_id = \"bigdata-gr-rms-odaa\"\n",
    "request_id = \"4d7d6d06-7f09-47a4-b1db-6582a20ce3ce\""
   ]
  },
  {
   "cell_type": "code",
   "execution_count": null,
   "id": "346e17da-1041-46bc-81c4-f950dd327b99",
   "metadata": {
    "tags": []
   },
   "outputs": [],
   "source": [
    "delete_quota_url = f\"https://resource-manager-dot-bdp-odaa-dev.du.r.appspot.com/quotas/{quota_id}/requests/{request_id}\"\n",
    "res = requests.delete(delete_quota_url, headers={'Authorization': f\"Bearer {open_id_connect_token}\"})"
   ]
  },
  {
   "cell_type": "code",
   "execution_count": null,
   "id": "39b22b3b-46fe-4b75-8f61-d26e4cce0ff1",
   "metadata": {
    "tags": []
   },
   "outputs": [],
   "source": [
    "res.__dict__"
   ]
  },
  {
   "cell_type": "code",
   "execution_count": null,
   "id": "1806f403-358f-448e-bdf5-772e2a7c8254",
   "metadata": {
    "tags": []
   },
   "outputs": [],
   "source": [
    "import os, requests \n",
    "from google.oauth2 import id_token\n",
    "from google.auth.transport.requests import Request\n",
    "\n",
    "bgs_url = \"https://bgs.di.atlas.samsung.com/api/resource/user/juseong.kim.bdc@org.bigdata.samsung.com/credential\"\n",
    "bgs_client_id = \"909353950371-1okbmstgpndkdmvh7vqa6pefvv6lnie2.apps.googleusercontent.com\"\n",
    "\n",
    "open_id_connect_token = id_token.fetch_id_token(Request(), bgs_client_id)\n",
    "\n",
    "print(open_id_connect_token)\n",
    "\n",
    "response = requests.request('GET', bgs_url, headers={'Authorization': f\"Bearer {open_id_connect_token}\"})\n",
    "\n",
    "response"
   ]
  },
  {
   "cell_type": "code",
   "execution_count": null,
   "id": "b35ad5f9-648f-43c5-bd97-43e22076233f",
   "metadata": {
    "tags": []
   },
   "outputs": [],
   "source": [
    "response.__dict__"
   ]
  },
  {
   "cell_type": "code",
   "execution_count": null,
   "id": "5fbfdf4e-db44-49d7-be10-3ff53a171ba8",
   "metadata": {},
   "outputs": [],
   "source": []
  }
 ],
 "metadata": {
  "kernelspec": {
   "display_name": "Python3",
   "language": "python",
   "name": "python_kubernetes"
  },
  "language_info": {
   "codemirror_mode": {
    "name": "ipython",
    "version": 3
   },
   "file_extension": ".py",
   "mimetype": "text/x-python",
   "name": "python",
   "nbconvert_exporter": "python",
   "pygments_lexer": "ipython3",
   "version": "3.8.6"
  }
 },
 "nbformat": 4,
 "nbformat_minor": 5
}
