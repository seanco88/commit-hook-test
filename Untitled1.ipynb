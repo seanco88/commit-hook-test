{
 "cells": [
  {
   "cell_type": "code",
   "execution_count": null,
   "id": "19ac4011-a617-46cb-8090-2a06e0cbeb29",
   "metadata": {
    "tags": []
   },
   "outputs": [],
   "source": [
    "from samsung.bdp_bigquery_client import BdpBigQueryClient\n",
    " \n",
    "client = BdpBigQueryClient()\n",
    " \n",
    "query = \"\"\"select * from `bdp-odaa-dev.testset.masking_test_table` limit 100\"\"\"\n",
    " \n",
    "df = client.query(query)\n",
    "\n",
    "df"
   ]
  },
  {
   "cell_type": "code",
   "execution_count": null,
   "id": "69840f9e-437f-4404-b379-0bff795abbed",
   "metadata": {
    "tags": []
   },
   "outputs": [],
   "source": [
    "print(df)"
   ]
  },
  {
   "cell_type": "code",
   "execution_count": null,
   "id": "1213a9d4-23b6-457a-b84c-95e0958825f4",
   "metadata": {
    "tags": []
   },
   "outputs": [],
   "source": [
    "print(df)"
   ]
  },
  {
   "cell_type": "code",
   "execution_count": null,
   "id": "922091c5-dbff-4e60-9ba4-ec1044bd4a54",
   "metadata": {},
   "outputs": [],
   "source": [
    "df"
   ]
  },
  {
   "cell_type": "code",
   "execution_count": null,
   "id": "6cbca7ae-8b49-432c-acba-394fb49b4263",
   "metadata": {},
   "outputs": [],
   "source": [
    "print(df)"
   ]
  },
  {
   "cell_type": "code",
   "execution_count": null,
   "id": "ba8e8982-6076-4228-912b-8b885392a3ee",
   "metadata": {},
   "outputs": [],
   "source": [
    "print(df)"
   ]
  }
 ],
 "metadata": {
  "kernelspec": {
   "display_name": "Python3",
   "language": "python",
   "name": "python_kubernetes"
  },
  "language_info": {
   "codemirror_mode": {
    "name": "ipython",
    "version": 3
   },
   "file_extension": ".py",
   "mimetype": "text/x-python",
   "name": "python",
   "nbconvert_exporter": "python",
   "pygments_lexer": "ipython3",
   "version": "3.8.6"
  }
 },
 "nbformat": 4,
 "nbformat_minor": 5
}
